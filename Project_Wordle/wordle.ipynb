{
 "cells": [
  {
   "cell_type": "code",
   "execution_count": null,
   "id": "f6d216bc",
   "metadata": {},
   "outputs": [],
   "source": [
    "import random\n",
    "\n",
    "# Sample word list (must be 5-letter words)\n",
    "WORD_LIST = [\"crane\", \"slate\", \"grime\", \"flock\", \"blush\", \"trick\", \"plumb\", \"spine\", \"quilt\", \"brave\"]\n",
    "\n",
    "def get_feedback(guess, answer):\n",
    "    feedback = [\"⬛\"] * 5\n",
    "    answer_letters = list(answer)\n",
    "    guess_letters = list(guess)\n",
    "\n",
    "    # First pass: check for correct position (green)\n",
    "    for i in range(5):\n",
    "        if guess_letters[i] == answer_letters[i]:\n",
    "            feedback[i] = \"🟩\"\n",
    "            answer_letters[i] = None  # Mark as usedx\n",
    "            guess_letters[i] = None\n",
    "\n",
    "    # Second pass: check for correct letter, wrong position (yellow)\n",
    "    for i in range(5):\n",
    "        if guess_letters[i] and guess_letters[i] in answer_letters:\n",
    "            feedback[i] = \"🟨\"\n",
    "            answer_index = answer_letters.index(guess_letters[i])\n",
    "            answer_letters[answer_index] = None  # Mark as used\n",
    "\n",
    "    return \"\".join(feedback)\n",
    "\n",
    "def play_wordle():\n",
    "    answer = random.choice(WORD_LIST)\n",
    "    attempts = 6\n",
    "\n",
    "    print(\"🎮 Welcome to Wordle (Python Edition)!\")\n",
    "    print(\"Guess the 5-letter word. You have 6 attempts.\\n\")\n",
    "\n",
    "    for attempt in range(1, attempts + 1):\n",
    "        while True:\n",
    "            guess = input(f\"Attempt {attempt}: \").lower()\n",
    "            if len(guess) != 5 or guess not in WORD_LIST:\n",
    "                print(\"❗ Invalid word. Try a 5-letter word from the list.\")\n",
    "            else:\n",
    "                break\n",
    "\n",
    "        feedback = get_feedback(guess, answer)\n",
    "        print(\"Feedback:\", feedback)\n",
    "\n",
    "        \n",
    "\n",
    "        if guess == answer:\n",
    "            print(\"🎉 Correct! You win!\")\n",
    "            return\n",
    "\n",
    "    print(f\"😞 Out of tries! The word was: {answer}\")\n",
    "\n"
   ]
  },
  {
   "cell_type": "code",
   "execution_count": 5,
   "id": "274f09d4",
   "metadata": {},
   "outputs": [
    {
     "name": "stdout",
     "output_type": "stream",
     "text": [
      "🎮 Welcome to Wordle (Python Edition)!\n",
      "Guess the 5-letter word. You have 6 attempts.\n",
      "\n",
      "❗ Invalid word. Try a 5-letter word from the list.\n",
      "Feedback: ⬛⬛⬛🟨⬛\n",
      "❗ Invalid word. Try a 5-letter word from the list.\n",
      "❗ Invalid word. Try a 5-letter word from the list.\n",
      "❗ Invalid word. Try a 5-letter word from the list.\n",
      "❗ Invalid word. Try a 5-letter word from the list.\n",
      "❗ Invalid word. Try a 5-letter word from the list.\n",
      "❗ Invalid word. Try a 5-letter word from the list.\n",
      "❗ Invalid word. Try a 5-letter word from the list.\n",
      "❗ Invalid word. Try a 5-letter word from the list.\n",
      "❗ Invalid word. Try a 5-letter word from the list.\n",
      "❗ Invalid word. Try a 5-letter word from the list.\n",
      "❗ Invalid word. Try a 5-letter word from the list.\n",
      "❗ Invalid word. Try a 5-letter word from the list.\n",
      "❗ Invalid word. Try a 5-letter word from the list.\n",
      "❗ Invalid word. Try a 5-letter word from the list.\n",
      "❗ Invalid word. Try a 5-letter word from the list.\n",
      "❗ Invalid word. Try a 5-letter word from the list.\n",
      "❗ Invalid word. Try a 5-letter word from the list.\n"
     ]
    },
    {
     "ename": "KeyboardInterrupt",
     "evalue": "Interrupted by user",
     "output_type": "error",
     "traceback": [
      "\u001b[0;31m---------------------------------------------------------------------------\u001b[0m",
      "\u001b[0;31mKeyboardInterrupt\u001b[0m                         Traceback (most recent call last)",
      "Cell \u001b[0;32mIn [5], line 3\u001b[0m\n\u001b[1;32m      1\u001b[0m \u001b[38;5;66;03m# Run the game\u001b[39;00m\n\u001b[1;32m      2\u001b[0m \u001b[38;5;28;01mif\u001b[39;00m \u001b[38;5;18m__name__\u001b[39m \u001b[38;5;241m==\u001b[39m \u001b[38;5;124m\"\u001b[39m\u001b[38;5;124m__main__\u001b[39m\u001b[38;5;124m\"\u001b[39m:\n\u001b[0;32m----> 3\u001b[0m     play_wordle()\n",
      "Cell \u001b[0;32mIn [4], line 36\u001b[0m, in \u001b[0;36mplay_wordle\u001b[0;34m()\u001b[0m\n\u001b[1;32m     34\u001b[0m \u001b[38;5;28;01mfor\u001b[39;00m attempt \u001b[38;5;129;01min\u001b[39;00m \u001b[38;5;28mrange\u001b[39m(\u001b[38;5;241m1\u001b[39m, attempts \u001b[38;5;241m+\u001b[39m \u001b[38;5;241m1\u001b[39m):\n\u001b[1;32m     35\u001b[0m     \u001b[38;5;28;01mwhile\u001b[39;00m \u001b[38;5;28;01mTrue\u001b[39;00m:\n\u001b[0;32m---> 36\u001b[0m         guess \u001b[38;5;241m=\u001b[39m \u001b[38;5;28;43minput\u001b[39;49m\u001b[43m(\u001b[49m\u001b[38;5;124;43mf\u001b[39;49m\u001b[38;5;124;43m\"\u001b[39;49m\u001b[38;5;124;43mAttempt \u001b[39;49m\u001b[38;5;132;43;01m{\u001b[39;49;00m\u001b[43mattempt\u001b[49m\u001b[38;5;132;43;01m}\u001b[39;49;00m\u001b[38;5;124;43m: \u001b[39;49m\u001b[38;5;124;43m\"\u001b[39;49m\u001b[43m)\u001b[49m\u001b[38;5;241m.\u001b[39mlower()\n\u001b[1;32m     37\u001b[0m         \u001b[38;5;28;01mif\u001b[39;00m \u001b[38;5;28mlen\u001b[39m(guess) \u001b[38;5;241m!=\u001b[39m \u001b[38;5;241m5\u001b[39m \u001b[38;5;129;01mor\u001b[39;00m guess \u001b[38;5;129;01mnot\u001b[39;00m \u001b[38;5;129;01min\u001b[39;00m WORD_LIST:\n\u001b[1;32m     38\u001b[0m             \u001b[38;5;28mprint\u001b[39m(\u001b[38;5;124m\"\u001b[39m\u001b[38;5;124m❗ Invalid word. Try a 5-letter word from the list.\u001b[39m\u001b[38;5;124m\"\u001b[39m)\n",
      "File \u001b[0;32m/Library/Frameworks/Python.framework/Versions/3.10/lib/python3.10/site-packages/ipykernel/kernelbase.py:1177\u001b[0m, in \u001b[0;36mKernel.raw_input\u001b[0;34m(self, prompt)\u001b[0m\n\u001b[1;32m   1173\u001b[0m \u001b[38;5;28;01mif\u001b[39;00m \u001b[38;5;129;01mnot\u001b[39;00m \u001b[38;5;28mself\u001b[39m\u001b[38;5;241m.\u001b[39m_allow_stdin:\n\u001b[1;32m   1174\u001b[0m     \u001b[38;5;28;01mraise\u001b[39;00m StdinNotImplementedError(\n\u001b[1;32m   1175\u001b[0m         \u001b[38;5;124m\"\u001b[39m\u001b[38;5;124mraw_input was called, but this frontend does not support input requests.\u001b[39m\u001b[38;5;124m\"\u001b[39m\n\u001b[1;32m   1176\u001b[0m     )\n\u001b[0;32m-> 1177\u001b[0m \u001b[38;5;28;01mreturn\u001b[39;00m \u001b[38;5;28;43mself\u001b[39;49m\u001b[38;5;241;43m.\u001b[39;49m\u001b[43m_input_request\u001b[49m\u001b[43m(\u001b[49m\n\u001b[1;32m   1178\u001b[0m \u001b[43m    \u001b[49m\u001b[38;5;28;43mstr\u001b[39;49m\u001b[43m(\u001b[49m\u001b[43mprompt\u001b[49m\u001b[43m)\u001b[49m\u001b[43m,\u001b[49m\n\u001b[1;32m   1179\u001b[0m \u001b[43m    \u001b[49m\u001b[38;5;28;43mself\u001b[39;49m\u001b[38;5;241;43m.\u001b[39;49m\u001b[43m_parent_ident\u001b[49m\u001b[43m[\u001b[49m\u001b[38;5;124;43m\"\u001b[39;49m\u001b[38;5;124;43mshell\u001b[39;49m\u001b[38;5;124;43m\"\u001b[39;49m\u001b[43m]\u001b[49m\u001b[43m,\u001b[49m\n\u001b[1;32m   1180\u001b[0m \u001b[43m    \u001b[49m\u001b[38;5;28;43mself\u001b[39;49m\u001b[38;5;241;43m.\u001b[39;49m\u001b[43mget_parent\u001b[49m\u001b[43m(\u001b[49m\u001b[38;5;124;43m\"\u001b[39;49m\u001b[38;5;124;43mshell\u001b[39;49m\u001b[38;5;124;43m\"\u001b[39;49m\u001b[43m)\u001b[49m\u001b[43m,\u001b[49m\n\u001b[1;32m   1181\u001b[0m \u001b[43m    \u001b[49m\u001b[43mpassword\u001b[49m\u001b[38;5;241;43m=\u001b[39;49m\u001b[38;5;28;43;01mFalse\u001b[39;49;00m\u001b[43m,\u001b[49m\n\u001b[1;32m   1182\u001b[0m \u001b[43m\u001b[49m\u001b[43m)\u001b[49m\n",
      "File \u001b[0;32m/Library/Frameworks/Python.framework/Versions/3.10/lib/python3.10/site-packages/ipykernel/kernelbase.py:1219\u001b[0m, in \u001b[0;36mKernel._input_request\u001b[0;34m(self, prompt, ident, parent, password)\u001b[0m\n\u001b[1;32m   1216\u001b[0m             \u001b[38;5;28;01mbreak\u001b[39;00m\n\u001b[1;32m   1217\u001b[0m \u001b[38;5;28;01mexcept\u001b[39;00m \u001b[38;5;167;01mKeyboardInterrupt\u001b[39;00m:\n\u001b[1;32m   1218\u001b[0m     \u001b[38;5;66;03m# re-raise KeyboardInterrupt, to truncate traceback\u001b[39;00m\n\u001b[0;32m-> 1219\u001b[0m     \u001b[38;5;28;01mraise\u001b[39;00m \u001b[38;5;167;01mKeyboardInterrupt\u001b[39;00m(\u001b[38;5;124m\"\u001b[39m\u001b[38;5;124mInterrupted by user\u001b[39m\u001b[38;5;124m\"\u001b[39m) \u001b[38;5;28;01mfrom\u001b[39;00m \u001b[38;5;28mNone\u001b[39m\n\u001b[1;32m   1220\u001b[0m \u001b[38;5;28;01mexcept\u001b[39;00m \u001b[38;5;167;01mException\u001b[39;00m:\n\u001b[1;32m   1221\u001b[0m     \u001b[38;5;28mself\u001b[39m\u001b[38;5;241m.\u001b[39mlog\u001b[38;5;241m.\u001b[39mwarning(\u001b[38;5;124m\"\u001b[39m\u001b[38;5;124mInvalid Message:\u001b[39m\u001b[38;5;124m\"\u001b[39m, exc_info\u001b[38;5;241m=\u001b[39m\u001b[38;5;28;01mTrue\u001b[39;00m)\n",
      "\u001b[0;31mKeyboardInterrupt\u001b[0m: Interrupted by user"
     ]
    }
   ],
   "source": [
    "\n",
    "# Run the game\n",
    "if __name__ == \"__main__\":\n",
    "    play_wordle()\n"
   ]
  },
  {
   "cell_type": "code",
   "execution_count": null,
   "id": "a2c69c32",
   "metadata": {},
   "outputs": [],
   "source": []
  }
 ],
 "metadata": {
  "kernelspec": {
   "display_name": "Python 3",
   "language": "python",
   "name": "python3"
  },
  "language_info": {
   "codemirror_mode": {
    "name": "ipython",
    "version": 3
   },
   "file_extension": ".py",
   "mimetype": "text/x-python",
   "name": "python",
   "nbconvert_exporter": "python",
   "pygments_lexer": "ipython3",
   "version": "3.10.7"
  }
 },
 "nbformat": 4,
 "nbformat_minor": 5
}
